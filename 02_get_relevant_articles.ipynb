{
 "cells": [
  {
   "cell_type": "markdown",
   "metadata": {},
   "source": [
    "## Extract relevant articles based on conditions"
   ]
  },
  {
   "cell_type": "code",
   "execution_count": 1,
   "metadata": {},
   "outputs": [],
   "source": [
    "from tqdm import tqdm\n",
    "import pandas as pd\n",
    "import time\n",
    "import os\n",
    "\n",
    "# get extras (headers and mdfc)\n",
    "os.chdir(\"/home/insert_user/GDELT_GKG/extras/\")\n",
    "from extras_csv_headers import gkg_header, relevant_gkg_header\n",
    "# bool for whether or not to work with GDELT's \"enhanced\" themes - for now we don't due to their pesky format\n",
    "include_enhanced_themes = False\n",
    "\n",
    "# get automatically selected themes\n",
    "theme_subset = pd.read_csv(\"auto-theme-subset\",header=0,\n",
    "                           names=[\"theme\",\"count\"])[\"theme\"].to_list()\n",
    "\n",
    "# get MBFC data\n",
    "df_mbfc = pd.read_csv(\"MBFC_features.csv\",usecols=[\"URL\",\"Bias Rating\"])\n",
    "df_mbfc = df_mbfc.rename(columns={\"Bias Rating\":\"lean\",\"URL\":\"outlet\"})"
   ]
  },
  {
   "cell_type": "code",
   "execution_count": 2,
   "metadata": {},
   "outputs": [
    {
     "data": {
      "text/plain": [
       "['EPU_POLICY_INTEREST_RATES',\n",
       " 'CYBER_ATTACK',\n",
       " 'UNEMPLOYMENT',\n",
       " 'SURVEILLANCE',\n",
       " 'UNGP_AFFORDABLE_NUTRITIOUS_FOOD',\n",
       " 'STRIKE',\n",
       " 'EPU_POLICY_REGULATION',\n",
       " 'EPU_POLICY_CENTRAL_BANK',\n",
       " 'ENV_NATURALGAS',\n",
       " 'KIDNAP']"
      ]
     },
     "execution_count": 2,
     "metadata": {},
     "output_type": "execute_result"
    }
   ],
   "source": [
    "# show some example themes\n",
    "theme_subset[:10]"
   ]
  },
  {
   "cell_type": "code",
   "execution_count": 6,
   "metadata": {},
   "outputs": [],
   "source": [
    "#------------------------------------------------------------------------------\n",
    "# FUNCTIONS & SETUP\n",
    "#------------------------------------------------------------------------------\n",
    "\n",
    "def split_on_semicol(s):\n",
    "    \"\"\"\n",
    "    Function that splits string(or nans) into list.\n",
    "    \"\"\"\n",
    "    if isinstance(s,float) or str(s) == \"nan\" or not s:\n",
    "        return []\n",
    "    # make cell into array and remove empty items resulting from split\n",
    "    return [item for item in s.split(\";\") if item != '']\n",
    "\n",
    "def simplify_theme(element_set):\n",
    "    \"\"\"\n",
    "    If using known set of themes that contain near synonyms, this\n",
    "    can be used to combine theme names (dict of names to combine is\n",
    "    the \"theme groups\" variable). \n",
    "    \n",
    "    Returns set of inputted list elements.\n",
    "    \"\"\"\n",
    "    common_elements_set = set({theme_groups[el] \n",
    "                               if el in theme_groups.keys() \n",
    "                               else el for el in element_set})\n",
    "    return common_elements_set\n",
    "\n",
    "def check_if_theme_present(list1,list2, num_overlap=1):\n",
    "    \"\"\"\n",
    "    Function returns common elements in two lists. Can specify amount of overlap \n",
    "    required by the two lists (can for example specify that we'd like there to be\n",
    "    at least 5 overlapping elements, but default is one).\n",
    "    \"\"\"\n",
    "    if str(list1) != \"nan\":\n",
    "        common_elements = set(list1).intersection(list2)\n",
    "        if len(common_elements) >= num_overlap:\n",
    "            return common_elements\n",
    "    return None\n",
    "\n",
    "def check_if_enhancedtheme_present(enh_theme,list2, num_overlap=1):\n",
    "    # OBS! DOES NOT WORK WITH SCRIPT 04 - DEFUNCT\n",
    "    if str(enh_theme) != \"nan\" and enh_theme:\n",
    "        enh_theme = pd.Series(enh_theme).str.split(',',expand=True)\n",
    "        enh_theme.columns = [\"theme\",\"charoff\"]\n",
    "        enh_theme[\"charoff\"] = pd.to_numeric(enh_theme[\"charoff\"])\n",
    "        #enh_theme[\"theme_simpl\"] = [theme_groups[el] \n",
    "        #                           if el in theme_groups.keys() \n",
    "        #                           else el for el in enh_theme[\"theme\"]]\n",
    "        # note that we want tht themes in original, not simplified format\n",
    "        themes = enh_theme[\"theme\"].to_list()\n",
    "    \n",
    "        common_elements = set(themes).intersection(list2)\n",
    "        if len(common_elements) >= num_overlap:\n",
    "            #common_elements = simplify_theme(common_elements)\n",
    "            enh_theme.drop(\"theme\", axis=1, inplace=True)\n",
    "            charoffs = enh_theme[enh_theme[\"theme\"].isin(common_elements)]\n",
    "            return charoffs.groupby(by=[\"theme\"]).min().to_dict()[\"charoff\"]\n",
    "    return None\n",
    "\n",
    "def make_binary_on_nan(series_col):\n",
    "    \"\"\"\n",
    "    Function to make non-na values integers.\n",
    "    \"\"\"\n",
    "    return series_col.notna().astype(int)\n",
    "\n",
    "def GCAM_to_dict(str_val):\n",
    "    \"\"\"\n",
    "    Function for splitting the GCAM metrics and extracting \n",
    "    the important ones from eMFD sentiment measures.\n",
    "    \"\"\"\n",
    "    kv_pairs = str_val.split(\",\")\n",
    "    new_dict = {}\n",
    "    for pair in kv_pairs:\n",
    "        key, value = pair.split(\":\")\n",
    "        new_dict[key] = value\n",
    "    # get eMFD values from GCAM\n",
    "    relevant_keys = [\"v42.7\",\"v42.8\",\"v42.9\",\"v42.10\",\"v42.11\"]\n",
    "    gcam_dict = {k: v for k, v in new_dict.items() if k in relevant_keys}\n",
    "    for key in relevant_keys:\n",
    "        if key not in gcam_dict:\n",
    "            gcam_dict[key] = 0\n",
    "    return gcam_dict"
   ]
  },
  {
   "cell_type": "code",
   "execution_count": 7,
   "metadata": {},
   "outputs": [],
   "source": [
    "csv_folder = \"/home/insert_user/GDELT_GKG/gkg_csvs/\"\n",
    "os.chdir(csv_folder)\n",
    "os.remove(\"one_year_outlets_eMFD.csv\")"
   ]
  },
  {
   "cell_type": "markdown",
   "metadata": {},
   "source": [
    "Suppress all the warnings because we're lazy and will fix this some other time, or never."
   ]
  },
  {
   "cell_type": "code",
   "execution_count": 4,
   "metadata": {},
   "outputs": [],
   "source": [
    "import warnings\n",
    "warnings.simplefilter(action='ignore', category=FutureWarning)\n",
    "pd.options.mode.chained_assignment = None"
   ]
  },
  {
   "cell_type": "code",
   "execution_count": 42,
   "metadata": {},
   "outputs": [
    {
     "name": "stderr",
     "output_type": "stream",
     "text": [
      "100%|████████████████████████████████████| 33141/33141 [03:04<00:00, 179.85it/s]\n"
     ]
    }
   ],
   "source": [
    "#------------------------------------------------------------------------------\n",
    "# MAIN\n",
    "#------------------------------------------------------------------------------\n",
    "\n",
    "# set working directory\n",
    "csv_folder = \"/home/insert_user/GDELT_GKG/gkg_csvs/\"\n",
    "os.chdir(csv_folder)\n",
    "\n",
    "# check if we're running second batch of 6months\n",
    "is_second_batch_of_csvs = True\n",
    "if not is_second_batch_of_csvs:\n",
    "    processed_dates = []\n",
    "\n",
    "# collect list of error files and outlets present in GDELT\n",
    "error_files = []\n",
    "#outlets = []\n",
    "for item in tqdm(os.listdir(csv_folder)):\n",
    "    if not item.endswith(\".gkg.csv\"): # exclude all files that are not csvs\n",
    "        continue\n",
    "    \n",
    "    # if it's part of the dates we already processed, skip\n",
    "    if is_second_batch_of_csvs and (int(item[:-8]) in processed_dates): #20220701000000: # this ic cutoff date\n",
    "        continue\n",
    "\n",
    "    # GET DATAFRAMES GKG - seems to have multiple encodings, wtf\n",
    "    try:\n",
    "        gkg = pd.read_csv(item, sep='\\t', names=gkg_header, header=0, \n",
    "                          encoding='unicode_escape', engine='python',\n",
    "                          on_bad_lines = 'skip')\n",
    "    except:\n",
    "        try: \n",
    "            #print(\"Trying utf8\")\n",
    "            gkg = pd.read_csv(item, sep='\\t', names=gkg_header, header=0, \n",
    "                              encoding='utf-8', engine='python',\n",
    "                              on_bad_lines = 'skip')\n",
    "        except:\n",
    "            # there's a problem with some gkg files...\n",
    "            error_files.append(item)\n",
    "            continue\n",
    "    \n",
    "    #--------------------------------------------------------------------------\n",
    "    # THEMES COLUMN CLEANING\n",
    "    #--------------------------------------------------------------------------\n",
    "    \n",
    "    # subselect columns\n",
    "    gkg_lite = pd.DataFrame(gkg,columns=relevant_gkg_header)\n",
    "    # fix THEMES formatting from string to list\n",
    "    gkg_lite[\"THEMES\"] = gkg_lite[\"THEMES\"].apply(split_on_semicol)\n",
    "    # get THEMES column where only relevant themes are shown\n",
    "    gkg_lite[\"THEMES_SUBSET\"] = gkg_lite[\"THEMES\"].apply(\n",
    "                                    check_if_theme_present,args=[theme_subset])\n",
    "\n",
    "    # if enhanced themes are to be included...\n",
    "    if include_enhanced_themes:\n",
    "        gkg_lite[\"V2ENHANCEDTHEMES\"] = gkg_lite[\"V2ENHANCEDTHEMES\"].apply(split_on_semicol)\n",
    "        gkg_lite[\"V2ENHANCEDTHEMES_SUBSET\"] = gkg_lite[\"V2ENHANCEDTHEMES\"].apply(check_if_enhancedtheme_present, args=[theme_subset] )\n",
    "    \n",
    "    # remove old columns\n",
    "    gkg_lite.drop('THEMES', axis=1, inplace=True)\n",
    "    gkg_lite.drop('V2ENHANCEDTHEMES', axis=1, inplace=True)\n",
    "    \n",
    "    # make sure this column is numeric\n",
    "    gkg_lite[\"V2SOURCECOLLECTIONIDENTIFIER\"] = pd.to_numeric(\n",
    "        gkg_lite[\"V2SOURCECOLLECTIONIDENTIFIER\"],\n",
    "        errors=\"coerce\", downcast=\"integer\")\n",
    "    \n",
    "    # add unique outlets to list\n",
    "    #outlets.extend(gkg_lite[\"V2SOURCECOMMONNAME\"].unique())\n",
    "    \n",
    "    #------------------------------------------------------------------------------\n",
    "    # SPEED TEST PANDAS\n",
    "    #------------------------------------------------------------------------------\n",
    "\n",
    "    # this ensures that only english (non-translated) articles are included\n",
    "    pandas_gkg = gkg_lite[ (gkg_lite[\"V21TRANSLATIONINFO\"].isna())\n",
    "                             # ensures only webpages are used\n",
    "                             & (gkg_lite[\"V2SOURCECOLLECTIONIDENTIFIER\"] == 1)\n",
    "                             # limits to relevant outlets with a human rating\n",
    "                             #& (gkg_lite[\"V2SOURCECOMMONNAME\"].isin(\n",
    "                             #                                df_mbfc.outlet))\n",
    "                             # select only articles that contain subset theme\n",
    "                             & (~gkg_lite['THEMES_SUBSET'].isnull())\n",
    "                             ]\n",
    "    # skip rest if DF is empty\n",
    "    if pandas_gkg.shape[0] == 0:\n",
    "        continue\n",
    "    \n",
    "    # split tone\n",
    "    tone_cols = [\"AvgTone\",\"PosScore\",\"NegScore\",\"Polarity\",\"ActRefDens\",\n",
    "                 \"SelfRefDens\",\"WordCount\"]\n",
    "    pandas_gkg[tone_cols] = pandas_gkg.loc[:,'TONE'].str.split(',', expand=True)\n",
    "    pandas_gkg[tone_cols] = pandas_gkg.loc[:,tone_cols].apply(pd.to_numeric,\n",
    "                                                        errors='coerce')\n",
    "    # remove unnecessary column\n",
    "    pandas_gkg.drop(['V2SOURCECOLLECTIONIDENTIFIER',\"V21TRANSLATIONINFO\",\"TONE\"], axis=1, inplace=True)\n",
    "    # clean make binary columns on images, social media, videos\n",
    "    pandas_gkg['V21RELATEDIMAGES'] = pandas_gkg.loc[:,'V21RELATEDIMAGES'].notna().astype(int)\n",
    "    pandas_gkg['V21SOCIALIMAGEEMBEDS'] = pandas_gkg.loc[:,'V21SOCIALIMAGEEMBEDS'].notna().astype(int)\n",
    "    pandas_gkg['V21SOCIALVIDEOEMBEDS'] = pandas_gkg.loc[:,'V21SOCIALVIDEOEMBEDS'].notna().astype(int)\n",
    "    # aggregate to single col\n",
    "    pandas_gkg[\"IMGorEMBED\"] = pandas_gkg.loc[:,['V21RELATEDIMAGES',\n",
    "                                                'V21SOCIALIMAGEEMBEDS',\n",
    "                                                'V21SOCIALVIDEOEMBEDS']].sum(1)\n",
    "    \n",
    "    # clean GCAM column, turn it into dicts\n",
    "    pandas_gkg[\"V2GCAM\"] = pandas_gkg[\"V2GCAM\"].apply(GCAM_to_dict)\n",
    "    # extract values from dict into their own columns\n",
    "    eMFD_cols = ['care-harm', 'fairness-cheating', 'loyalty-betrayal', \n",
    "                 'authority-subversion', 'sanctity-degradation']\n",
    "    pandas_gkg[eMFD_cols] = pandas_gkg['V2GCAM'].apply(\n",
    "        lambda x: pd.Series([x['v42.7'], x['v42.8'], x['v42.9'], x['v42.10'], x['v42.11']]))\n",
    "    \n",
    "    pandas_gkg.drop('V2GCAM', axis=1, inplace=True)\n",
    "    \n",
    "    # if file does not exist write header \n",
    "    if not os.path.isfile(\"one_year_outlets_eMFD.csv\"):\n",
    "        pandas_gkg.to_csv(\"one_year_outlets_eMFD.csv\", header=pandas_gkg.columns,\n",
    "                         index=False)\n",
    "    else: # else it exists so append without writing the header\n",
    "        pandas_gkg.to_csv(\"one_year_outlets_eMFD.csv\", mode='a', header=False,\n",
    "                         index=False)"
   ]
  },
  {
   "cell_type": "markdown",
   "metadata": {},
   "source": [
    "## Validate the Data Extraction\n",
    "\n",
    "Sometimes some files aren't processed, or the notebook interrupts. Let's check how much of the data we managed to get before any of that happened."
   ]
  },
  {
   "cell_type": "code",
   "execution_count": 54,
   "metadata": {},
   "outputs": [],
   "source": [
    "output = pd.read_csv(\"one_year_outlets_eMFD.csv\")"
   ]
  },
  {
   "cell_type": "code",
   "execution_count": 55,
   "metadata": {},
   "outputs": [
    {
     "data": {
      "text/plain": [
       "(array([185787., 201498., 239307., 227197., 202900., 220277.,  43389.,\n",
       "             0.,      0.,      0.,      0.,      0.,      0.,      0.,\n",
       "             0.,      0.,      0.,      0.,      0.,      0., 157977.,\n",
       "        193364., 200758., 244029., 193758., 189818.,  34821.,      0.,\n",
       "             0.,      0.,      0.,      0.,      0.,      0.,      0.,\n",
       "             0.,      0.,      0.,      0.,      0.,  52239., 217126.,\n",
       "        263759., 181188., 197291., 258431., 208013.,  56273.,      0.,\n",
       "             0.,      0.,      0.,      0.,      0.,      0.,      0.,\n",
       "             0.,      0.,      0.,      0.,      0., 119436., 246595.,\n",
       "        210706., 179695., 241138., 242279.,  82348.,      0.,      0.,\n",
       "             0.,      0.,      0.,      0.,      0.,      0.,      0.,\n",
       "             0.,      0.,      0.,      0.,  26791., 253618., 211570.,\n",
       "        209963., 236715., 229607., 173094.,  12757.,      0.,      0.,\n",
       "             0.,      0.,      0.,      0.,      0.,      0.,      0.,\n",
       "             0.,      0.,      0.,      0., 172896., 218121., 199501.,\n",
       "        207072., 206314., 190257., 111386.,      0.,      0.,      0.,\n",
       "             0.,      0.,      0.,      0.,      0.,      0.,      0.,\n",
       "             0.,      0.,      0.,  71884., 121259.,      0.,  59775.,\n",
       "        223786., 189500., 194445.,      0.,      0.,      0.,      0.,\n",
       "             0.,      0.,      0.,      0.,      0.,      0.,      0.,\n",
       "             0.,      0.,      0., 195089., 195666., 194534., 231759.,\n",
       "        187268., 181192.,  95313.,      0.,      0.,      0.,      0.,\n",
       "             0.,      0.,      0.,      0.,      0.,      0.,      0.,\n",
       "             0.,      0.,  94203., 179455., 182469., 218729., 205632.,\n",
       "        168017., 178203.,      0.,      0.,      0.,      0.,      0.,\n",
       "             0.,      0.,      0.,      0.,      0.,      0.,      0.,\n",
       "             0.,      0., 200464., 189242., 210052., 186050.,  75467.,\n",
       "             0.,  63061.,      0.,      0.,      0.,      0.,      0.,\n",
       "             0.,      0.,      0.,      0.,      0.,      0.,      0.,\n",
       "             0., 123272., 171155., 185468., 210044., 178712., 152607.,\n",
       "        137624.,      0.,      0.,      0.,      0.,      0.,      0.,\n",
       "             0.,      0.,      0.,      0.,      0.,      0.,      0.,\n",
       "             0., 170978., 210757., 210876., 180492., 177030., 171403.]),\n",
       " array([2.02201010e+13, 2.02201059e+13, 2.02201108e+13, 2.02201157e+13,\n",
       "        2.02201206e+13, 2.02201254e+13, 2.02201303e+13, 2.02201352e+13,\n",
       "        2.02201401e+13, 2.02201450e+13, 2.02201499e+13, 2.02201548e+13,\n",
       "        2.02201597e+13, 2.02201645e+13, 2.02201694e+13, 2.02201743e+13,\n",
       "        2.02201792e+13, 2.02201841e+13, 2.02201890e+13, 2.02201939e+13,\n",
       "        2.02201988e+13, 2.02202037e+13, 2.02202085e+13, 2.02202134e+13,\n",
       "        2.02202183e+13, 2.02202232e+13, 2.02202281e+13, 2.02202330e+13,\n",
       "        2.02202379e+13, 2.02202428e+13, 2.02202477e+13, 2.02202525e+13,\n",
       "        2.02202574e+13, 2.02202623e+13, 2.02202672e+13, 2.02202721e+13,\n",
       "        2.02202770e+13, 2.02202819e+13, 2.02202868e+13, 2.02202916e+13,\n",
       "        2.02202965e+13, 2.02203014e+13, 2.02203063e+13, 2.02203112e+13,\n",
       "        2.02203161e+13, 2.02203210e+13, 2.02203259e+13, 2.02203308e+13,\n",
       "        2.02203356e+13, 2.02203405e+13, 2.02203454e+13, 2.02203503e+13,\n",
       "        2.02203552e+13, 2.02203601e+13, 2.02203650e+13, 2.02203699e+13,\n",
       "        2.02203748e+13, 2.02203796e+13, 2.02203845e+13, 2.02203894e+13,\n",
       "        2.02203943e+13, 2.02203992e+13, 2.02204041e+13, 2.02204090e+13,\n",
       "        2.02204139e+13, 2.02204187e+13, 2.02204236e+13, 2.02204285e+13,\n",
       "        2.02204334e+13, 2.02204383e+13, 2.02204432e+13, 2.02204481e+13,\n",
       "        2.02204530e+13, 2.02204579e+13, 2.02204627e+13, 2.02204676e+13,\n",
       "        2.02204725e+13, 2.02204774e+13, 2.02204823e+13, 2.02204872e+13,\n",
       "        2.02204921e+13, 2.02204970e+13, 2.02205019e+13, 2.02205067e+13,\n",
       "        2.02205116e+13, 2.02205165e+13, 2.02205214e+13, 2.02205263e+13,\n",
       "        2.02205312e+13, 2.02205361e+13, 2.02205410e+13, 2.02205458e+13,\n",
       "        2.02205507e+13, 2.02205556e+13, 2.02205605e+13, 2.02205654e+13,\n",
       "        2.02205703e+13, 2.02205752e+13, 2.02205801e+13, 2.02205850e+13,\n",
       "        2.02205898e+13, 2.02205947e+13, 2.02205996e+13, 2.02206045e+13,\n",
       "        2.02206094e+13, 2.02206143e+13, 2.02206192e+13, 2.02206241e+13,\n",
       "        2.02206290e+13, 2.02206338e+13, 2.02206387e+13, 2.02206436e+13,\n",
       "        2.02206485e+13, 2.02206534e+13, 2.02206583e+13, 2.02206632e+13,\n",
       "        2.02206681e+13, 2.02206729e+13, 2.02206778e+13, 2.02206827e+13,\n",
       "        2.02206876e+13, 2.02206925e+13, 2.02206974e+13, 2.02207023e+13,\n",
       "        2.02207072e+13, 2.02207121e+13, 2.02207169e+13, 2.02207218e+13,\n",
       "        2.02207267e+13, 2.02207316e+13, 2.02207365e+13, 2.02207414e+13,\n",
       "        2.02207463e+13, 2.02207512e+13, 2.02207561e+13, 2.02207609e+13,\n",
       "        2.02207658e+13, 2.02207707e+13, 2.02207756e+13, 2.02207805e+13,\n",
       "        2.02207854e+13, 2.02207903e+13, 2.02207952e+13, 2.02208000e+13,\n",
       "        2.02208049e+13, 2.02208098e+13, 2.02208147e+13, 2.02208196e+13,\n",
       "        2.02208245e+13, 2.02208294e+13, 2.02208343e+13, 2.02208392e+13,\n",
       "        2.02208440e+13, 2.02208489e+13, 2.02208538e+13, 2.02208587e+13,\n",
       "        2.02208636e+13, 2.02208685e+13, 2.02208734e+13, 2.02208783e+13,\n",
       "        2.02208832e+13, 2.02208880e+13, 2.02208929e+13, 2.02208978e+13,\n",
       "        2.02209027e+13, 2.02209076e+13, 2.02209125e+13, 2.02209174e+13,\n",
       "        2.02209223e+13, 2.02209271e+13, 2.02209320e+13, 2.02209369e+13,\n",
       "        2.02209418e+13, 2.02209467e+13, 2.02209516e+13, 2.02209565e+13,\n",
       "        2.02209614e+13, 2.02209663e+13, 2.02209711e+13, 2.02209760e+13,\n",
       "        2.02209809e+13, 2.02209858e+13, 2.02209907e+13, 2.02209956e+13,\n",
       "        2.02210005e+13, 2.02210054e+13, 2.02210103e+13, 2.02210151e+13,\n",
       "        2.02210200e+13, 2.02210249e+13, 2.02210298e+13, 2.02210347e+13,\n",
       "        2.02210396e+13, 2.02210445e+13, 2.02210494e+13, 2.02210542e+13,\n",
       "        2.02210591e+13, 2.02210640e+13, 2.02210689e+13, 2.02210738e+13,\n",
       "        2.02210787e+13, 2.02210836e+13, 2.02210885e+13, 2.02210934e+13,\n",
       "        2.02210982e+13, 2.02211031e+13, 2.02211080e+13, 2.02211129e+13,\n",
       "        2.02211178e+13, 2.02211227e+13, 2.02211276e+13, 2.02211325e+13,\n",
       "        2.02211374e+13, 2.02211422e+13, 2.02211471e+13, 2.02211520e+13,\n",
       "        2.02211569e+13, 2.02211618e+13, 2.02211667e+13, 2.02211716e+13,\n",
       "        2.02211765e+13, 2.02211813e+13, 2.02211862e+13, 2.02211911e+13,\n",
       "        2.02211960e+13, 2.02212009e+13, 2.02212058e+13, 2.02212107e+13,\n",
       "        2.02212156e+13, 2.02212205e+13, 2.02212253e+13, 2.02212302e+13]),\n",
       " <BarContainer object of 231 artists>)"
      ]
     },
     "execution_count": 55,
     "metadata": {},
     "output_type": "execute_result"
    },
    {
     "data": {
      "image/png": "[encoded data removed]",
      "text/plain": [
       "<Figure size 640x480 with 1 Axes>"
      ]
     },
     "metadata": {},
     "output_type": "display_data"
    }
   ],
   "source": [
    "import matplotlib.pyplot as plt\n",
    "\n",
    "plt.hist(output[\"DATE\"].values,bins=\"auto\",rwidth=None,histtype=\"barstacked\")"
   ]
  },
  {
   "cell_type": "markdown",
   "metadata": {},
   "source": [
    "Some dates are clearly missing, let's get a list of those we did process so we can rerun the code without these. Then we can rerun the code above while setting \"is_second_batch\" to True."
   ]
  },
  {
   "cell_type": "code",
   "execution_count": 56,
   "metadata": {},
   "outputs": [],
   "source": [
    "# get a list of daates that were processed so we can rerun the code and check if something was skipped\n",
    "processed_dates = pd.Series([int(f) for f in output[\"DATE\"].values])\n",
    "processed_dates = processed_dates.unique()"
   ]
  },
  {
   "cell_type": "code",
   "execution_count": 57,
   "metadata": {},
   "outputs": [
    {
     "data": {
      "text/plain": [
       "32774"
      ]
     },
     "execution_count": 57,
     "metadata": {},
     "output_type": "execute_result"
    }
   ],
   "source": [
    "len(processed_dates)\n",
    "# should get around 35k, as this is approximately how many 15 minute intervals there are in a year."
   ]
  },
  {
   "cell_type": "markdown",
   "metadata": {},
   "source": [
    "## Output Error Files and Outlet names"
   ]
  },
  {
   "cell_type": "code",
   "execution_count": 58,
   "metadata": {},
   "outputs": [],
   "source": [
    "error_files = list(set(error_files))"
   ]
  },
  {
   "cell_type": "code",
   "execution_count": 59,
   "metadata": {},
   "outputs": [
    {
     "name": "stdout",
     "output_type": "stream",
     "text": [
      "Something went wrong with this many files: 361\n"
     ]
    }
   ],
   "source": [
    "print(\"Something went wrong with this many files: {}\".format(len(error_files)))"
   ]
  },
  {
   "cell_type": "code",
   "execution_count": 60,
   "metadata": {},
   "outputs": [],
   "source": [
    "# export files that could not be processed\n",
    "pd.Series(error_files).to_csv(\"/home/insert_user/GDELT_GKG/extras/error_files_no_articles_could_be_extracted.csv\")"
   ]
  },
  {
   "cell_type": "code",
   "execution_count": null,
   "metadata": {},
   "outputs": [],
   "source": [
    "# export names of all outlets in GDELT\n",
    "pd.Series(outlets).to_csv(\"/home/insert_user/GDELT_GKG/extras/all_GDELT_outlet_names.csv\")"
   ]
  }
 ],
 "metadata": {
  "kernelspec": {
   "display_name": "Python 3 (ipykernel)",
   "language": "python",
   "name": "python3"
  },
  "language_info": {
   "codemirror_mode": {
    "name": "ipython",
    "version": 3
   },
   "file_extension": ".py",
   "mimetype": "text/x-python",
   "name": "python",
   "nbconvert_exporter": "python",
   "pygments_lexer": "ipython3",
   "version": "3.8.10"
  }
 },
 "nbformat": 4,
 "nbformat_minor": 4
}
