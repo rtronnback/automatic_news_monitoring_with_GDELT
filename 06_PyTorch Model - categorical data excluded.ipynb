{
 "cells": [
  {
   "cell_type": "markdown",
   "id": "d72cadd6",
   "metadata": {},
   "source": [
    "# PyTorch Classification Model"
   ]
  },
  {
   "cell_type": "code",
   "execution_count": 1,
   "id": "507d5cf7",
   "metadata": {},
   "outputs": [],
   "source": [
    "#!pip install pytorch_lightning\n",
    "#!pip install lightning"
   ]
  },
  {
   "cell_type": "code",
   "execution_count": 2,
   "id": "9ec9fec8",
   "metadata": {},
   "outputs": [],
   "source": [
    "import pandas as pd\n",
    "import numpy as np\n",
    "import matplotlib.pyplot as plt\n",
    "\n",
    "import torch\n",
    "import torch.nn as nn\n",
    "import torch.optim as torch_optim\n",
    "import torch.nn.functional as F\n",
    "import pytorch_lightning as pl\n",
    "from torch.utils.data import DataLoader,Dataset\n",
    "from torchmetrics import Accuracy\n",
    "\n",
    "from sklearn.preprocessing import MinMaxScaler,OneHotEncoder\n",
    "from sklearn.model_selection import train_test_split\n",
    "from sklearn.metrics import (accuracy_score,classification_report,\n",
    "                            confusion_matrix, ConfusionMatrixDisplay,\n",
    "                            roc_auc_score)\n",
    "from time import time\n",
    "import os\n"
   ]
  },
  {
   "cell_type": "markdown",
   "id": "9ecb9799",
   "metadata": {},
   "source": [
    "## Setup"
   ]
  },
  {
   "cell_type": "code",
   "execution_count": 3,
   "id": "00ca2d71",
   "metadata": {},
   "outputs": [],
   "source": [
    "class OutletBiasDataset(Dataset):\n",
    "    \"\"\"\n",
    "    Dataset class for PyTorch's, allowing us to work with the csv dataset.\n",
    "    \n",
    "    From the docs:\n",
    "    All datasets that represent a map from keys to data samples should subclass it. \n",
    "    All subclasses should overwrite __getitem__(), supporting fetching a data sample \n",
    "    for a given key. Subclasses could also optionally overwrite __len__(), which is \n",
    "    expected to return the size of the dataset by many Sampler implementations and \n",
    "    the default options of DataLoader.\n",
    "    \n",
    "    \"\"\"\n",
    "    def __init__(self, data, numer_cols, label_col):\n",
    "        data = data.copy()\n",
    "        #numerical columns\n",
    "        self.X_num = data.loc[:,numer_cols].copy().values.astype(np.float32)\n",
    "        #categorical columns\n",
    "        self.y = data[label_col]\n",
    "        self.index = data.index\n",
    "\n",
    "    def __len__(self):\n",
    "        return len(self.y)\n",
    "\n",
    "    def __getitem__(self, idx):\n",
    "        return self.index[idx], self.X_num[idx], self.y[idx]"
   ]
  },
  {
   "cell_type": "code",
   "execution_count": 4,
   "id": "dc41d55b",
   "metadata": {},
   "outputs": [],
   "source": [
    "class TabularDataModule(pl.LightningDataModule):\n",
    "    \"\"\"\n",
    "    The Pytorch DataModule enables reusing classes, while incorporating\n",
    "    all preprocessing steps: making datasets into OutletBiasDataset class instances.\n",
    "    The DataLoaders are also made here, as required by PyTorch and PyTorch Lightning\n",
    "    \"\"\"\n",
    "\n",
    "    def __init__(self, datadir, dataset_extension,\n",
    "                 num_cols, label_col, num_workers=2,\n",
    "                 batch_size_train=16, batch_size_val=16, batch_size_test=16):\n",
    "        \n",
    "        super().__init__()\n",
    "        os.chdir(datadir)\n",
    "        # datasets\n",
    "        self.train = pd.read_csv(\"train{}.csv\".format(dataset_extension))\n",
    "        self.train.set_index(\"outlet\", inplace=True)\n",
    "        \n",
    "        self.val = pd.read_csv(\"val{}.csv\".format(dataset_extension))\n",
    "        self.val.set_index(\"outlet\", inplace=True)\n",
    "        \n",
    "        self.test = pd.read_csv(\"test{}.csv\".format(dataset_extension))\n",
    "        self.test.set_index(\"outlet\", inplace=True)\n",
    "        \n",
    "        # define other variables\n",
    "        self.num_cols = num_cols\n",
    "        self.label_col = label_col\n",
    "        self.num_workers = num_workers\n",
    "        self.batch_size_train = batch_size_train\n",
    "        self.batch_size_val = batch_size_val\n",
    "        self.batch_size_test = batch_size_test\n",
    "\n",
    "    def setup(self, stage=\"\"):\n",
    "        # check dataset shapes\n",
    "        print('Train set shape: ', self.train.shape)\n",
    "        print('Validation set shape: ', self.val.shape)\n",
    "        print('Test set shape: ', self.test.shape)\n",
    "        \n",
    "        # MAKE INTO DATASET FORMAT\n",
    "        self.dataset_train = OutletBiasDataset(self.train,\n",
    "                                               self.num_cols,self.label_col)\n",
    "        self.dataset_val = OutletBiasDataset(self.val,\n",
    "                                               self.num_cols,self.label_col)\n",
    "        self.dataset_test = OutletBiasDataset(self.test,\n",
    "                                               self.num_cols,self.label_col)\n",
    "\n",
    "    def train_dataloader(self):\n",
    "        return DataLoader(\n",
    "            self.dataset_train,\n",
    "            num_workers=self.num_workers,\n",
    "            batch_size=self.batch_size_train,\n",
    "            shuffle=True\n",
    "        )\n",
    "\n",
    "    def val_dataloader(self):\n",
    "        return DataLoader(\n",
    "            self.dataset_val,\n",
    "            num_workers=self.num_workers,\n",
    "            batch_size=self.batch_size_val,\n",
    "            shuffle=False\n",
    "        )\n",
    "\n",
    "    def test_dataloader(self):\n",
    "        return DataLoader(\n",
    "            self.dataset_test,\n",
    "            num_workers=self.num_workers,\n",
    "            batch_size=self.batch_size_test,\n",
    "            shuffle=False\n",
    "        )"
   ]
  },
  {
   "cell_type": "code",
   "execution_count": 5,
   "id": "e8f1abf8",
   "metadata": {},
   "outputs": [],
   "source": [
    "class TabularNetModel(pl.LightningModule):\n",
    "    \"\"\"\n",
    "    Model class in PyTorch Lightning. Model structure is defined in self.layers().\n",
    "    \n",
    "    Initialize with:\n",
    "    - num_cols: columns in dataset that are numeric,\n",
    "    - embedding_size_dict: predetermined embedding sizes per categorical feature,\n",
    "    - n_classes: number of classes to be classified,\n",
    "    - learning_rate: model's learning rate,\n",
    "    - neurons_per_layer_list: list of neurons to be put per layer, for any number of layers,\n",
    "    - dropout_p: dropout probability between each layer\n",
    "    \n",
    "    \"\"\"\n",
    "    def __init__(self, num_cols, n_classes,\n",
    "                 neurons_per_layer_list=[512,256,128],\n",
    "                 learning_rate=0.001, dropout_p=0.2):\n",
    "        super().__init__()\n",
    "        \n",
    "        # pytorch lightning black magic, all the arguments can now be\n",
    "        # accessed through self.hparams.[argument]\n",
    "        self.save_hyperparameters()\n",
    "        self.num_cols = num_cols\n",
    "        self.num_len = len(num_cols)\n",
    "        self.n_classes = n_classes\n",
    "        \n",
    "        # get number of input features for model\n",
    "        in_features = self.num_len\n",
    "        \n",
    "        # let's finally define the model architecture itself:\n",
    "        all_layers = []\n",
    "        for i in neurons_per_layer_list:\n",
    "            all_layers.append(nn.Linear(in_features, i))\n",
    "            all_layers.append(nn.ReLU(inplace=True))\n",
    "            all_layers.append(nn.BatchNorm1d(i))\n",
    "            all_layers.append(nn.Dropout(dropout_p))\n",
    "            in_features = i\n",
    "            \n",
    "        # add final output layer,\n",
    "        all_layers.append(nn.Linear(neurons_per_layer_list[-1], n_classes))\n",
    "        # and put into Sequantial.\n",
    "        self.layers = nn.Sequential(*all_layers)\n",
    "        \n",
    "        # something to keep track of accuracy with...\n",
    "        self.val_accuracy = Accuracy(task=\"multiclass\", num_classes=self.n_classes)\n",
    "        self.test_accuracy = Accuracy(task=\"multiclass\", num_classes=self.n_classes)\n",
    "\n",
    "    def forward(self, num_tensor):\n",
    "        # concatenate the categorical embedding and numerical layer\n",
    "        #all_outputs = torch.cat((num_tensor, cat_outputs), dim=1)\n",
    "        \n",
    "        # now we get the final outputs through the layers we made earlier\n",
    "        final_outputs = self.layers(num_tensor).squeeze(dim=1)\n",
    "        \n",
    "        return F.log_softmax(final_outputs, dim=1)\n",
    "\n",
    "    def configure_optimizers(self):\n",
    "        return torch.optim.Adam(self.parameters(), \n",
    "                                lr=self.hparams.learning_rate)\n",
    "    \n",
    "    def training_step(self, batch, batch_idx):\n",
    "        index, num_tensor, label_tensor = batch\n",
    "        output_tensor = self(num_tensor)\n",
    "        # compute loss\n",
    "        loss = F.nll_loss(output_tensor, label_tensor)\n",
    "        self.log('train_loss', loss, prog_bar=True)\n",
    "        return loss\n",
    "\n",
    "    def validation_step(self, batch, batch_idx):\n",
    "        index, num_tensor, label_tensor = batch\n",
    "        output_tensor = self(num_tensor)\n",
    "        # compute loss\n",
    "        loss = F.nll_loss(output_tensor, label_tensor)\n",
    "        self.log(\"val_loss\", loss, prog_bar=True)\n",
    "        # compute accuracy\n",
    "        preds = torch.argmax(output_tensor, dim=1)\n",
    "        self.val_accuracy.update(preds, label_tensor)\n",
    "        self.log(\"val_acc\", self.val_accuracy, prog_bar=True)\n",
    "\n",
    "    def test_step(self, batch, batch_idx):\n",
    "        index, num_tensor,label_tensor = batch\n",
    "        output_tensor = self(num_tensor)\n",
    "        # compute loss\n",
    "        loss = F.nll_loss(output_tensor, label_tensor)\n",
    "        self.log('test_loss', loss, prog_bar=True)\n",
    "        # compute accuracy\n",
    "        preds = torch.argmax(output_tensor, dim=1)\n",
    "        self.val_accuracy.update(preds, label_tensor)\n",
    "        self.log(\"test_acc\", self.val_accuracy, prog_bar=True)\n"
   ]
  },
  {
   "cell_type": "markdown",
   "id": "a732c426",
   "metadata": {},
   "source": [
    "## Main"
   ]
  },
  {
   "cell_type": "code",
   "execution_count": 6,
   "id": "6bc64915",
   "metadata": {},
   "outputs": [],
   "source": [
    "#------------------------------------------------------------------------------\n",
    "# IMPORT DATA FOR MAKING CUSTOM EMBEDDINGS\n",
    "#------------------------------------------------------------------------------\n",
    "# make list of class names in correct order\n",
    "global class_names\n",
    "class_names = [\"left\",\"left center\",\"least biased\",\"right center\",\"right\"] #[\"left\",\"center\",\"right\"]# in order from MBFC mappings\n",
    "\n",
    "dataset_extension = \"_mbfc_allbias\"\n",
    "\n",
    "data = pd.read_csv(\"GDELT_GKG/data/train{}.csv\".format(dataset_extension))\n",
    "data.set_index(\"outlet\", inplace=True)\n",
    "\n",
    "#------------------------------------------------------------------------------\n",
    "# GET CATEGORICAL FEATURES TO EMBED AND DETERMINE EMBEDDING SIZES\n",
    "#------------------------------------------------------------------------------\n",
    "\n",
    "# get categorical and numerical columns\n",
    "label_col = \"lean\"\n",
    "num_cols = data.columns.difference([label_col])\n"
   ]
  },
  {
   "cell_type": "code",
   "execution_count": 7,
   "id": "01f1740d",
   "metadata": {},
   "outputs": [],
   "source": [
    "#------------------------------------------------------------------------------\n",
    "# MAKE DATASET MODULE\n",
    "#------------------------------------------------------------------------------\n",
    "\n",
    "tabular_data_module = TabularDataModule(\"GDELT_GKG/data\", \n",
    "                                        dataset_extension=dataset_extension,\n",
    "                                        num_cols=num_cols, label_col=label_col, \n",
    "                                        num_workers=2,\n",
    "                                        batch_size_train=32, \n",
    "                                        batch_size_val=32, \n",
    "                                        batch_size_test=32)"
   ]
  },
  {
   "cell_type": "code",
   "execution_count": 8,
   "id": "e8b19daa",
   "metadata": {},
   "outputs": [
    {
     "data": {
      "text/plain": [
       "TabularNetModel(\n",
       "  (layers): Sequential(\n",
       "    (0): Linear(in_features=357, out_features=512, bias=True)\n",
       "    (1): ReLU(inplace=True)\n",
       "    (2): BatchNorm1d(512, eps=1e-05, momentum=0.1, affine=True, track_running_stats=True)\n",
       "    (3): Dropout(p=0.5, inplace=False)\n",
       "    (4): Linear(in_features=512, out_features=256, bias=True)\n",
       "    (5): ReLU(inplace=True)\n",
       "    (6): BatchNorm1d(256, eps=1e-05, momentum=0.1, affine=True, track_running_stats=True)\n",
       "    (7): Dropout(p=0.5, inplace=False)\n",
       "    (8): Linear(in_features=256, out_features=5, bias=True)\n",
       "  )\n",
       "  (val_accuracy): MulticlassAccuracy()\n",
       "  (test_accuracy): MulticlassAccuracy()\n",
       ")"
      ]
     },
     "execution_count": 8,
     "metadata": {},
     "output_type": "execute_result"
    }
   ],
   "source": [
    "#------------------------------------------------------------------------------\n",
    "# MAKE MODEL(S)\n",
    "#------------------------------------------------------------------------------\n",
    "\n",
    "# we can print out the network architecture for inspection\n",
    "tabular_model = TabularNetModel(num_cols,n_classes=len(class_names),neurons_per_layer_list = [512,256], dropout_p=0.5)\n",
    "# for viewing architecture:\n",
    "tabular_model"
   ]
  },
  {
   "cell_type": "code",
   "execution_count": 9,
   "id": "19fa07c8",
   "metadata": {},
   "outputs": [
    {
     "name": "stderr",
     "output_type": "stream",
     "text": [
      "GPU available: True (cuda), used: True\n",
      "TPU available: False, using: 0 TPU cores\n",
      "IPU available: False, using: 0 IPUs\n",
      "HPU available: False, using: 0 HPUs\n",
      "/home/ronja/.local/lib/python3.8/site-packages/pytorch_lightning/trainer/connectors/logger_connector/logger_connector.py:67: UserWarning: Starting from v1.9.0, `tensorboardX` has been removed as a dependency of the `pytorch_lightning` package, due to potential conflicts with other packages in the ML ecosystem. For this reason, `logger=True` will use `CSVLogger` as the default logger, unless the `tensorboard` or `tensorboardX` packages are found. Please `pip install lightning[extra]` or one of them to enable TensorBoard support by default\n",
      "  warning_cache.warn(\n",
      "/home/ronja/.local/lib/python3.8/site-packages/pytorch_lightning/callbacks/model_checkpoint.py:612: UserWarning: Checkpoint directory /home/ronja/GDELT_GKG/data/lightning_logs exists and is not empty.\n",
      "  rank_zero_warn(f\"Checkpoint directory {dirpath} exists and is not empty.\")\n"
     ]
    },
    {
     "name": "stdout",
     "output_type": "stream",
     "text": [
      "Train set shape:  (552, 358)\n",
      "Validation set shape:  (118, 358)\n",
      "Test set shape:  (119, 358)\n"
     ]
    },
    {
     "name": "stderr",
     "output_type": "stream",
     "text": [
      "LOCAL_RANK: 0 - CUDA_VISIBLE_DEVICES: [0]\n",
      "/home/ronja/.local/lib/python3.8/site-packages/pytorch_lightning/trainer/connectors/data_connector.py:430: PossibleUserWarning: The dataloader, train_dataloader, does not have many workers which may be a bottleneck. Consider increasing the value of the `num_workers` argument` (try 32 which is the number of cpus on this machine) in the `DataLoader` init to improve performance.\n",
      "  rank_zero_warn(\n",
      "/home/ronja/.local/lib/python3.8/site-packages/pytorch_lightning/trainer/connectors/data_connector.py:430: PossibleUserWarning: The dataloader, val_dataloader, does not have many workers which may be a bottleneck. Consider increasing the value of the `num_workers` argument` (try 32 which is the number of cpus on this machine) in the `DataLoader` init to improve performance.\n",
      "  rank_zero_warn(\n"
     ]
    },
    {
     "data": {
      "application/vnd.jupyter.widget-view+json": {
       "model_id": "0b8b81020c064b3dbc18d98a43d1c338",
       "version_major": 2,
       "version_minor": 0
      },
      "text/plain": [
       "Finding best initial lr:   0%|          | 0/100 [00:00<?, ?it/s]"
      ]
     },
     "metadata": {},
     "output_type": "display_data"
    },
    {
     "name": "stderr",
     "output_type": "stream",
     "text": [
      "`Trainer.fit` stopped: `max_steps=100` reached.\n",
      "Learning rate set to 0.006918309709189364\n",
      "Restoring states from the checkpoint path at /home/ronja/GDELT_GKG/data/.lr_find_38bc85c5-dc65-494e-93c6-840966306e03.ckpt\n",
      "Restored all states from the checkpoint at /home/ronja/GDELT_GKG/data/.lr_find_38bc85c5-dc65-494e-93c6-840966306e03.ckpt\n",
      "\n",
      "  | Name          | Type               | Params\n",
      "-----------------------------------------------------\n",
      "0 | layers        | Sequential         | 317 K \n",
      "1 | val_accuracy  | MulticlassAccuracy | 0     \n",
      "2 | test_accuracy | MulticlassAccuracy | 0     \n",
      "-----------------------------------------------------\n",
      "317 K     Trainable params\n",
      "0         Non-trainable params\n",
      "317 K     Total params\n",
      "1.270     Total estimated model params size (MB)\n",
      "Restored all states from the checkpoint at /home/ronja/GDELT_GKG/data/.lr_find_38bc85c5-dc65-494e-93c6-840966306e03.ckpt\n"
     ]
    },
    {
     "data": {
      "application/vnd.jupyter.widget-view+json": {
       "model_id": "",
       "version_major": 2,
       "version_minor": 0
      },
      "text/plain": [
       "Sanity Checking: 0it [00:00, ?it/s]"
      ]
     },
     "metadata": {},
     "output_type": "display_data"
    },
    {
     "data": {
      "application/vnd.jupyter.widget-view+json": {
       "model_id": "e4990bb128e64c3b8388d742fbe90e89",
       "version_major": 2,
       "version_minor": 0
      },
      "text/plain": [
       "Training: 0it [00:00, ?it/s]"
      ]
     },
     "metadata": {},
     "output_type": "display_data"
    },
    {
     "data": {
      "application/vnd.jupyter.widget-view+json": {
       "model_id": "",
       "version_major": 2,
       "version_minor": 0
      },
      "text/plain": [
       "Validation: 0it [00:00, ?it/s]"
      ]
     },
     "metadata": {},
     "output_type": "display_data"
    },
    {
     "data": {
      "application/vnd.jupyter.widget-view+json": {
       "model_id": "",
       "version_major": 2,
       "version_minor": 0
      },
      "text/plain": [
       "Validation: 0it [00:00, ?it/s]"
      ]
     },
     "metadata": {},
     "output_type": "display_data"
    },
    {
     "data": {
      "application/vnd.jupyter.widget-view+json": {
       "model_id": "",
       "version_major": 2,
       "version_minor": 0
      },
      "text/plain": [
       "Validation: 0it [00:00, ?it/s]"
      ]
     },
     "metadata": {},
     "output_type": "display_data"
    },
    {
     "data": {
      "application/vnd.jupyter.widget-view+json": {
       "model_id": "",
       "version_major": 2,
       "version_minor": 0
      },
      "text/plain": [
       "Validation: 0it [00:00, ?it/s]"
      ]
     },
     "metadata": {},
     "output_type": "display_data"
    },
    {
     "data": {
      "application/vnd.jupyter.widget-view+json": {
       "model_id": "",
       "version_major": 2,
       "version_minor": 0
      },
      "text/plain": [
       "Validation: 0it [00:00, ?it/s]"
      ]
     },
     "metadata": {},
     "output_type": "display_data"
    },
    {
     "data": {
      "application/vnd.jupyter.widget-view+json": {
       "model_id": "",
       "version_major": 2,
       "version_minor": 0
      },
      "text/plain": [
       "Validation: 0it [00:00, ?it/s]"
      ]
     },
     "metadata": {},
     "output_type": "display_data"
    },
    {
     "data": {
      "application/vnd.jupyter.widget-view+json": {
       "model_id": "",
       "version_major": 2,
       "version_minor": 0
      },
      "text/plain": [
       "Validation: 0it [00:00, ?it/s]"
      ]
     },
     "metadata": {},
     "output_type": "display_data"
    },
    {
     "data": {
      "application/vnd.jupyter.widget-view+json": {
       "model_id": "",
       "version_major": 2,
       "version_minor": 0
      },
      "text/plain": [
       "Validation: 0it [00:00, ?it/s]"
      ]
     },
     "metadata": {},
     "output_type": "display_data"
    },
    {
     "data": {
      "application/vnd.jupyter.widget-view+json": {
       "model_id": "",
       "version_major": 2,
       "version_minor": 0
      },
      "text/plain": [
       "Validation: 0it [00:00, ?it/s]"
      ]
     },
     "metadata": {},
     "output_type": "display_data"
    },
    {
     "data": {
      "application/vnd.jupyter.widget-view+json": {
       "model_id": "",
       "version_major": 2,
       "version_minor": 0
      },
      "text/plain": [
       "Validation: 0it [00:00, ?it/s]"
      ]
     },
     "metadata": {},
     "output_type": "display_data"
    },
    {
     "data": {
      "application/vnd.jupyter.widget-view+json": {
       "model_id": "",
       "version_major": 2,
       "version_minor": 0
      },
      "text/plain": [
       "Validation: 0it [00:00, ?it/s]"
      ]
     },
     "metadata": {},
     "output_type": "display_data"
    },
    {
     "data": {
      "application/vnd.jupyter.widget-view+json": {
       "model_id": "",
       "version_major": 2,
       "version_minor": 0
      },
      "text/plain": [
       "Validation: 0it [00:00, ?it/s]"
      ]
     },
     "metadata": {},
     "output_type": "display_data"
    },
    {
     "data": {
      "application/vnd.jupyter.widget-view+json": {
       "model_id": "",
       "version_major": 2,
       "version_minor": 0
      },
      "text/plain": [
       "Validation: 0it [00:00, ?it/s]"
      ]
     },
     "metadata": {},
     "output_type": "display_data"
    }
   ],
   "source": [
    "#------------------------------------------------------------------------------\n",
    "# MODEL TRAINING\n",
    "#------------------------------------------------------------------------------\n",
    "\n",
    "from pytorch_lightning.callbacks import (EarlyStopping,LearningRateFinder,ModelCheckpoint)\n",
    "\n",
    "callbacks = [EarlyStopping(monitor='val_acc', \n",
    "                           min_delta=0.005, \n",
    "                           patience=10,\n",
    "                           mode=\"max\"),\n",
    "             # finds optimal learning rate automatically\n",
    "             LearningRateFinder(min_lr=1e-08, \n",
    "                               max_lr=1, \n",
    "                               num_training_steps=100, \n",
    "                               mode='exponential', \n",
    "                               early_stop_threshold=4.0),\n",
    "            # saves top-K checkpoints based on \"val_acc\" metric\n",
    "            ModelCheckpoint(\n",
    "                save_top_k=5,\n",
    "                monitor=\"val_acc\",\n",
    "                mode=\"max\",\n",
    "                dirpath=\"lightning_logs/\",\n",
    "                filename=\"TabularModel-{epoch:02d}-{val_acc:.2f}\",\n",
    "            )]\n",
    "\n",
    "trainer = pl.Trainer(max_epochs=100, \n",
    "                     min_epochs=5,\n",
    "                     callbacks=callbacks,\n",
    "                     logger=True,\n",
    "                     log_every_n_steps=10,\n",
    "                     #enable_checkpointing=True\n",
    "                    )\n",
    "\n",
    "trainer.fit(tabular_model, tabular_data_module)"
   ]
  },
  {
   "cell_type": "markdown",
   "id": "dff39575",
   "metadata": {},
   "source": [
    "## TEST SET EVALUATION"
   ]
  },
  {
   "cell_type": "code",
   "execution_count": 10,
   "id": "d014fb56",
   "metadata": {},
   "outputs": [],
   "source": [
    "os.chdir(\"..\")\n",
    "# let's set the working directory for saving the reports & ConfusionMatrix\n",
    "if not os.path.exists(\"results/Experiment{}\".format(dataset_extension)):\n",
    "    # if the demo_folder directory is not present \n",
    "    # then create it.\n",
    "    os.makedirs(\"results/Experiment{}\".format(dataset_extension))\n",
    "    print(\"Made Experiment Folder!\")\n",
    "\n",
    "os.chdir(\"results/Experiment{}/\".format(dataset_extension))"
   ]
  },
  {
   "cell_type": "code",
   "execution_count": 11,
   "id": "a9b2a00a",
   "metadata": {},
   "outputs": [],
   "source": [
    "import sklearn.metrics as metrics\n",
    "\n",
    "def predict(tabular_model, tabular_data_module):\n",
    "    data_loader = tabular_data_module.test_dataloader()\n",
    "    batch_size = data_loader.batch_size\n",
    "    n_rows = len(tabular_data_module.dataset_test)\n",
    "    \n",
    "    y_true = np.zeros(n_rows, dtype=np.float32)\n",
    "    y_pred = np.zeros((n_rows,len(class_names)), dtype=np.float32)\n",
    "    indexes = []\n",
    "    with torch.no_grad():\n",
    "        idx = 0\n",
    "        for index, num_batch, label_batch in data_loader:\n",
    "            # get model output\n",
    "            y_output = tabular_model(num_batch)\n",
    "            y_prob = y_output.cpu().numpy()\n",
    "            # map exp function to all outputs\n",
    "            y_prob = list(map(np.exp,y_prob))\n",
    "\n",
    "            # add predictions to output arrays\n",
    "            start_idx = idx\n",
    "            idx += batch_size\n",
    "            end_idx = idx\n",
    "            y_pred[start_idx:end_idx] = y_prob\n",
    "            y_true[start_idx:end_idx] = label_batch.cpu().numpy()\n",
    "            \n",
    "            # append indexes\n",
    "            indexes.extend(index)\n",
    "\n",
    "            if end_idx == n_rows:\n",
    "                break\n",
    "\n",
    "    return y_true, y_pred, indexes\n",
    "\n",
    "def get_AUC_scores(y_test,y_pred):\n",
    "    \"\"\"\n",
    "    Since we need to use OneHotEncoded values for AUC, we'll do that here separately.\n",
    "    We also calculate the AUC per class, and also its average. Then put this in\n",
    "    array and pad it so it fits into the report DataFrame.\n",
    "    \"\"\"\n",
    "    ohe = OneHotEncoder()\n",
    "    out = ohe.fit_transform(y_test.values.reshape(-1, 1)).toarray()\n",
    "    y_test_ohe = pd.DataFrame(out, index=y_test.index)\n",
    "    # get same shape for predictions - note that preds often arrays, not series, so don't need .values\n",
    "    out = ohe.transform(y_pred.reshape(-1, 1)).toarray()\n",
    "    y_pred_ohe = pd.DataFrame(out, index=y_test.index)\n",
    "    \n",
    "    # compute actual scores\n",
    "    AUC_avg = roc_auc_score(y_test_ohe,y_pred_ohe, multi_class='ovr')\n",
    "    AUC_per_class = roc_auc_score(y_test_ohe,y_pred_ohe, average=None,multi_class='ovr')\n",
    "    # add AUC to report DF\n",
    "    AUC_list = np.append(AUC_per_class,AUC_avg)\n",
    "    AUC_list = np.append(AUC_list, [0,0]) # add padding so it fits into DF\n",
    "    \n",
    "    return AUC_list\n",
    "\n",
    "def evaluate_predictions(y_test,y_pred,save=True,model_name=\"\"):\n",
    "    \"\"\"\n",
    "    Note that y_test and y_pred both have to have 1 dimension only here - no probs per class.\n",
    "    \"\"\"\n",
    "    # make report of predictions\n",
    "    report = pd.DataFrame(classification_report(y_test,y_pred, output_dict=True,\n",
    "                                  target_names=class_names))\n",
    "    # get AUC score & add to report DF\n",
    "    report.loc['AUC',:] = get_AUC_scores(y_test,y_pred)\n",
    "    \n",
    "    # make confusion matrix\n",
    "    disp = ConfusionMatrixDisplay.from_predictions(\n",
    "            y_test,\n",
    "            y_pred,\n",
    "            display_labels = class_names, \n",
    "            xticks_rotation=\"vertical\",\n",
    "            cmap=plt.cm.Blues,\n",
    "        )\n",
    "    disp.ax_.set_title(\"{} Confusion Matrix of Outlet Bias\".format(model_name))\n",
    "    # print results and timing\n",
    "    print(\"Test accuracy\")\n",
    "    print(f\"{accuracy_score(y_test, y_pred):.2%}\\n\")\n",
    "\n",
    "    if save == True:\n",
    "        # save picture and report\n",
    "        save_path_confmx = \"{}_Confusion_Matrix{}.png\".format(model_name,dataset_extension)\n",
    "        save_path_report = \"{}_Report{}.csv\".format(model_name,dataset_extension)\n",
    "        # picture\n",
    "        disp.figure_.savefig(save_path_confmx)\n",
    "        report.to_csv(save_path_report)\n",
    "\n",
    "    return report,disp\n",
    "\n",
    "def eval_model(model,model_name=\"PyTorch\",save=False):\n",
    "    # get true and predicted values (note that y_true here is still prob values per class, not output class)\n",
    "    y_true, y_pred, indexes = predict(model, tabular_data_module)\n",
    "    y_argmax_pred = np.argmax(y_pred,axis=1)\n",
    "    # make y_true nto pd Series with old index intact\n",
    "    y_test = pd.Series(y_true,index=indexes)\n",
    "    # evaluate\n",
    "    report,disp = evaluate_predictions(y_test,y_argmax_pred,save=save,model_name=model_name)\n",
    "    return report,disp"
   ]
  },
  {
   "cell_type": "code",
   "execution_count": 12,
   "id": "acd1bce8",
   "metadata": {},
   "outputs": [
    {
     "name": "stdout",
     "output_type": "stream",
     "text": [
      "Test accuracy\n",
      "68.91%\n",
      "\n"
     ]
    },
    {
     "data": {
      "text/plain": [
       "(               left  left center  least biased  right center     right  \\\n",
       " precision  0.500000     0.620690      0.800000      0.555556  0.714286   \n",
       " recall     0.714286     0.529412      0.814815      0.588235  0.714286   \n",
       " f1-score   0.588235     0.571429      0.807339      0.571429  0.714286   \n",
       " support    7.000000    34.000000     54.000000     17.000000  7.000000   \n",
       " AUC        0.834821     0.700000      0.822792      0.754902  0.848214   \n",
       " \n",
       "            accuracy   macro avg  weighted avg  \n",
       " precision  0.689076    0.638106      0.691159  \n",
       " recall     0.689076    0.672207      0.689076  \n",
       " f1-score   0.689076    0.650544      0.687873  \n",
       " support    0.689076  119.000000    119.000000  \n",
       " AUC        0.792146    0.000000      0.000000  ,\n",
       " <sklearn.metrics._plot.confusion_matrix.ConfusionMatrixDisplay at 0x7f876e538370>)"
      ]
     },
     "execution_count": 12,
     "metadata": {},
     "output_type": "execute_result"
    },
    {
     "data": {
      "image/png": "[encoded data removed]",
      "text/plain": [
       "<Figure size 640x480 with 2 Axes>"
      ]
     },
     "metadata": {},
     "output_type": "display_data"
    }
   ],
   "source": [
    "eval_model(tabular_model,model_name=\"PyTorch\",save=True)"
   ]
  },
  {
   "cell_type": "markdown",
   "id": "c2b2a537",
   "metadata": {},
   "source": [
    "## Load Model from Checkpoint"
   ]
  },
  {
   "cell_type": "code",
   "execution_count": 13,
   "id": "202e64cb",
   "metadata": {},
   "outputs": [],
   "source": [
    "# load_model\n",
    "#model = MyLightningModule.load_from_checkpoint(\"/path/to/checkpoint.ckpt\")"
   ]
  },
  {
   "cell_type": "code",
   "execution_count": null,
   "id": "36028e1f",
   "metadata": {},
   "outputs": [],
   "source": []
  }
 ],
 "metadata": {
  "kernelspec": {
   "display_name": "Python 3 (ipykernel)",
   "language": "python",
   "name": "python3"
  },
  "language_info": {
   "codemirror_mode": {
    "name": "ipython",
    "version": 3
   },
   "file_extension": ".py",
   "mimetype": "text/x-python",
   "name": "python",
   "nbconvert_exporter": "python",
   "pygments_lexer": "ipython3",
   "version": "3.8.10"
  }
 },
 "nbformat": 4,
 "nbformat_minor": 5
}
