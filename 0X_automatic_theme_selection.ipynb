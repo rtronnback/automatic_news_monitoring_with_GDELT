{
 "cells": [
  {
   "cell_type": "markdown",
   "id": "e6cf1968",
   "metadata": {},
   "source": [
    "# Explore and automatically select theme subset"
   ]
  },
  {
   "cell_type": "code",
   "execution_count": 2,
   "id": "74e60833",
   "metadata": {},
   "outputs": [],
   "source": [
    "from tqdm import tqdm\n",
    "import pandas as pd\n",
    "import chardet\n",
    "import time\n",
    "import os\n",
    "\n",
    "# get extras headers\n",
    "#from extras_csv_headers import gkg_header, relevant_gkg_header"
   ]
  },
  {
   "cell_type": "code",
   "execution_count": null,
   "id": "d3b1a6b0",
   "metadata": {},
   "outputs": [],
   "source": [
    "#------------------------------------------------------------------------------\n",
    "# FUNCTIONS & SETUP\n",
    "#------------------------------------------------------------------------------\n",
    "\n",
    "def split_on_semicol(s):\n",
    "    if isinstance(s,float) or str(s) == \"nan\" or not s:\n",
    "        return []\n",
    "    # make cell into array and remove empty items resulting from split\n",
    "    return [item for item in s.split(\";\") if item != '']"
   ]
  },
  {
   "cell_type": "markdown",
   "id": "21703a9c",
   "metadata": {},
   "source": [
    "## Obtain List of Themes from Data (very slow)"
   ]
  },
  {
   "cell_type": "code",
   "execution_count": null,
   "id": "2838aeee",
   "metadata": {},
   "outputs": [],
   "source": [
    "#------------------------------------------------------------------------------\n",
    "# MAIN\n",
    "#------------------------------------------------------------------------------\n",
    "\n",
    "# set working directory\n",
    "csv_folder = \"/home/insert_user/GDELT_GKG/gkg_csvs\"\n",
    "os.chdir(csv_folder)\n",
    "\n",
    "\n",
    "all_themes = []\n",
    "for item in tqdm(os.listdir(csv_folder)):\n",
    "    if not item.endswith(\".gkg.csv\"): # exclude all files that are not csvs\n",
    "        continue\n",
    "\n",
    "    # GET DATAFRAMES GKG - seems to have multiple encodings, wtf\n",
    "    try:\n",
    "        gkg = pd.read_csv(item, sep='\\t', names=gkg_header, header=0, \n",
    "                          encoding='unicode_escape', engine='python',\n",
    "                          on_bad_lines = 'skip')\n",
    "    except:\n",
    "        try: \n",
    "            #print(\"Trying utf8\")\n",
    "            gkg = pd.read_csv(item, sep='\\t', names=gkg_header, header=0, \n",
    "                              encoding='utf-8', engine='python',\n",
    "                              on_bad_lines = 'skip')\n",
    "        except:\n",
    "            try:\n",
    "                rawdata = open(item, \"rb\").read()\n",
    "                encoding = chardet.detect(rawdata)['encoding']\n",
    "                del rawdata\n",
    "                gkg = pd.read_csv(item, sep='\\t', names=gkg_header, header=0, \n",
    "                              encoding=encoding, engine='python',\n",
    "                              on_bad_lines = 'skip')\n",
    "            except:\n",
    "                # there's a problem with some gkg files...\n",
    "                print(\"Something went wrong with this file: {}\".format(item))\n",
    "                continue\n",
    "    \n",
    "    #--------------------------------------------------------------------------\n",
    "    # THEMES COLUMN CLEANING\n",
    "    #--------------------------------------------------------------------------\n",
    "    \n",
    "    # subselect columns\n",
    "    gkg_lite = pd.DataFrame(gkg,columns=[\"V2SOURCECOMMONNAME\",\"THEMES\"])\n",
    "    # fix THEMES formatting from string to list\n",
    "    gkg_lite[\"THEMES\"] = gkg_lite[\"THEMES\"].apply(split_on_semicol)\n",
    "    all_themes.extend(gkg_lite[\"THEMES\"].values)"
   ]
  },
  {
   "cell_type": "code",
   "execution_count": null,
   "id": "57ab9bac",
   "metadata": {},
   "outputs": [],
   "source": [
    "# get list of all themes found here\n",
    "import itertools\n",
    "import numpy as np\n",
    "themes_series = pd.Series(pd.Series(list(itertools.chain(*all_themes))).astype(str))"
   ]
  },
  {
   "cell_type": "code",
   "execution_count": null,
   "id": "fdbc8e50",
   "metadata": {},
   "outputs": [],
   "source": [
    "del all_themes # clean up the poor memory"
   ]
  },
  {
   "cell_type": "code",
   "execution_count": null,
   "id": "87e00243",
   "metadata": {},
   "outputs": [],
   "source": [
    "# subset by removing taxonomies\n",
    "theme_counts = themes_series.value_counts()"
   ]
  },
  {
   "cell_type": "code",
   "execution_count": null,
   "id": "e57c058c",
   "metadata": {},
   "outputs": [],
   "source": [
    "theme_counts.to_csv(\"/home/insert_user/GDELT_GKG/all-themes-and-counts\")"
   ]
  },
  {
   "cell_type": "code",
   "execution_count": null,
   "id": "8a8ff10f",
   "metadata": {},
   "outputs": [],
   "source": [
    "theme_counts.head()"
   ]
  },
  {
   "cell_type": "markdown",
   "id": "e1fb5f32",
   "metadata": {},
   "source": [
    "## Modifying saved list of themes to automatically select subset"
   ]
  },
  {
   "cell_type": "code",
   "execution_count": null,
   "id": "0aec1d97",
   "metadata": {},
   "outputs": [],
   "source": [
    "# read in themes if already saved and want to modify\n",
    "theme_counts = pd.read_csv(\"/home/insert_user/GDELT_GKG/all-themes-and-counts\")\n",
    "theme_counts.head()\n",
    "# something has gone wrong here, whereas it saved the names as the index before, now we just get enumerated index numbers...."
   ]
  },
  {
   "cell_type": "code",
   "execution_count": null,
   "id": "a127cb57",
   "metadata": {},
   "outputs": [],
   "source": [
    "# discard taxonomy themes\n",
    "theme_counts = theme_counts[~theme_counts.index.str.startswith((\n",
    "                                                    'TAX_',\n",
    "                                                    'WB_',\n",
    "                                                    'SOC_POINTSOFINTEREST',\n",
    "                                                    'CRISISLEX',\n",
    "                                                    'ECON_WORLDCURRENCIES',\n",
    "                                                    'ECON_DEVELOPMENTORGS'\n",
    "                                                    ))] # this takes care of NaNs"
   ]
  },
  {
   "cell_type": "code",
   "execution_count": null,
   "id": "826967dd",
   "metadata": {},
   "outputs": [],
   "source": [
    "log_theme_counts = np.log(theme_counts)\n",
    "count_mean = log_theme_counts.mean()\n",
    "count_std = log_theme_counts.std()\n",
    "\n",
    "# yields 408 themes\n",
    "subset_themes = theme_counts[((log_theme_counts < count_mean+count_std) &\n",
    "                              (log_theme_counts > count_mean-count_std) &\n",
    "                              (theme_counts > 1000))]\n",
    "\n",
    "print(len(subset_themes)) # yields 519"
   ]
  },
  {
   "cell_type": "code",
   "execution_count": null,
   "id": "bf90df1f",
   "metadata": {},
   "outputs": [],
   "source": [
    "!pip3 install matplotlib"
   ]
  },
  {
   "cell_type": "code",
   "execution_count": null,
   "id": "7d5b2ad2",
   "metadata": {},
   "outputs": [],
   "source": [
    "from matplotlib import pyplot as plt\n",
    "\n",
    "subset_themes = pd.read_csv(\"/home/insert_user/GDELT_GKG/auto-theme-subset\",names=[\"theme\",\"amount\"])\n",
    "subset_themes.set_index(\"theme\", inplace=True)\n",
    "\n",
    "subset_themes.plot()\n",
    "plt.xticks(rotation=90)"
   ]
  },
  {
   "cell_type": "code",
   "execution_count": null,
   "id": "61493b5b",
   "metadata": {},
   "outputs": [],
   "source": [
    "subset_themes.tail()"
   ]
  },
  {
   "cell_type": "code",
   "execution_count": null,
   "id": "e215f28c",
   "metadata": {},
   "outputs": [],
   "source": []
  },
  {
   "cell_type": "code",
   "execution_count": null,
   "id": "470e0f98",
   "metadata": {},
   "outputs": [],
   "source": [
    "subset_themes.to_csv(\"/home/insert_user/GDELT_GKG/auto-theme-subset\")"
   ]
  },
  {
   "cell_type": "markdown",
   "id": "37c630c5",
   "metadata": {},
   "source": [
    "## Get Stats later on"
   ]
  },
  {
   "cell_type": "code",
   "execution_count": 3,
   "id": "ccfdf61d",
   "metadata": {},
   "outputs": [],
   "source": [
    "all_themes = pd.read_csv(\"/home/insert_user/GDELT_GKG/extras/GDELT Descriptive Stats/all-themes-and-counts\")"
   ]
  },
  {
   "cell_type": "code",
   "execution_count": null,
   "id": "7d7e7819",
   "metadata": {},
   "outputs": [],
   "source": [
    "all_themes.shape"
   ]
  },
  {
   "cell_type": "code",
   "execution_count": 5,
   "id": "9841c4f6",
   "metadata": {},
   "outputs": [],
   "source": [
    "subset_themes = pd.read_csv(\"/home/insert_user/GDELT_GKG/extras/GDELT Descriptive Stats/auto-theme-subset\")"
   ]
  },
  {
   "cell_type": "code",
   "execution_count": null,
   "id": "ea2e5bba",
   "metadata": {},
   "outputs": [],
   "source": [
    "subset_themes.shape"
   ]
  },
  {
   "cell_type": "code",
   "execution_count": null,
   "id": "9cbf7841",
   "metadata": {},
   "outputs": [],
   "source": [
    "subset_themes"
   ]
  }
 ],
 "metadata": {
  "kernelspec": {
   "display_name": "Python 3 (ipykernel)",
   "language": "python",
   "name": "python3"
  },
  "language_info": {
   "codemirror_mode": {
    "name": "ipython",
    "version": 3
   },
   "file_extension": ".py",
   "mimetype": "text/x-python",
   "name": "python",
   "nbconvert_exporter": "python",
   "pygments_lexer": "ipython3",
   "version": "3.8.10"
  }
 },
 "nbformat": 4,
 "nbformat_minor": 5
}
